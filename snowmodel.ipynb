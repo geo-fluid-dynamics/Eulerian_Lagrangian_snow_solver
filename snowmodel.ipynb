{
 "cells": [
  {
   "cell_type": "code",
   "execution_count": null,
   "id": "0",
   "metadata": {},
   "outputs": [],
   "source": [
    "import sys\n",
    "import os\n",
    "import matplotlib.pyplot as plt\n",
    "import numpy as np\n",
    "import matplotlib.pyplot as plt\n",
    "from IPython.display import display, clear_output\n",
    "sys.path.append(os.getcwd()) # insert path to Snowmodel\n",
    "from model import *\n"
   ]
  },
  {
   "cell_type": "markdown",
   "id": "1",
   "metadata": {},
   "source": [
    "#### Initialize model geometry\n",
    "In set_up_model_geometry you can choose several intial geometries via *geom* that are described in the docstring. 'FieldScale0.5m' is a snowpack of an initial height *Z* of 0.5 m, 101 computational nodes *nz*, which means a node distance *dz* of 0.005 m. *coord* contains the exact z-coordinates of all computational nodes.\n"
   ]
  },
  {
   "cell_type": "code",
   "execution_count": null,
   "id": "2",
   "metadata": {},
   "outputs": [],
   "source": [
    "geom = 'FieldScale0.5m'\n",
    "[nz, dz, Z, coord] = set_up_model_geometry(geom)"
   ]
  },
  {
   "cell_type": "markdown",
   "id": "3",
   "metadata": {},
   "source": [
    "#### Initialize time step and maximum iteration number\n",
    "*it* is the maximum number of iterations. The first time step *dt* is set to 0.01 s and the time passed *t_passed* is 0 s. *iter_max* is the maximum iteration numer. "
   ]
  },
  {
   "cell_type": "code",
   "execution_count": null,
   "id": "4",
   "metadata": {},
   "outputs": [],
   "source": [
    "it = 7000\n",
    "[iter_max, dt, t_passed] = set_up_iter(it)  "
   ]
  },
  {
   "cell_type": "markdown",
   "id": "5",
   "metadata": {},
   "source": [
    "#### Set initial conditions for temperature and snow density\n",
    "set_initial_conditions defines the initial conditions for temperature *T* and snow density *rho_eff*. *RHO_ini* and *T_ini* can be replace by all options listed in the doc string of *set_initial_conditions*. *RHO_2Layer_Continuous_smooth* reflects a snowpack with two equally thick snow layers of which the lower one is denser (150 kgm $ ^{-3} $) and the upper one is lighter (75 kgm $ ^{-3} $ ). Ice volume fraction *phi* is then derived from snow density *rho_eff* with *retrieve_phi_from_rho_eff*"
   ]
  },
  {
   "cell_type": "code",
   "execution_count": null,
   "id": "6",
   "metadata": {},
   "outputs": [],
   "source": [
    "T_ini = 'T_const_263'\n",
    "RHO_ini =  'RHO_2Layer_Continuous_smooth'\n",
    "[T, rho_eff] = set_initial_conditions(nz, Z, RHO_ini, T_ini)\n",
    "phi = retrieve_phi_from_rho_eff (nz, rho_eff)"
   ]
  },
  {
   "cell_type": "markdown",
   "id": "7",
   "metadata": {},
   "source": [
    "#### Set up matrices to store results for each time step"
   ]
  },
  {
   "cell_type": "code",
   "execution_count": null,
   "id": "8",
   "metadata": {},
   "outputs": [],
   "source": [
    "[all_D_eff, all_k_eff, all_FN, all_rhoC_eff, all_rho_v, all_T,all_c, all_phi, all_rho_eff,all_coord, \\\n",
    " all_v, all_sigma, all_t_passed, all_dz] = set_up_matrices(iter_max, nz)\n"
   ]
  },
  {
   "cell_type": "markdown",
   "id": "9",
   "metadata": {},
   "source": [
    "#### Initialize mesh fourier number *FN* and deposition rate *c*"
   ]
  },
  {
   "cell_type": "code",
   "execution_count": null,
   "id": "10",
   "metadata": {},
   "outputs": [],
   "source": [
    "FN = np.zeros(nz)\n",
    "c = np.zeros(nz)"
   ]
  },
  {
   "cell_type": "markdown",
   "id": "11",
   "metadata": {},
   "source": [
    "#### Initialize model parameters\n",
    "Diffusion coefficient *D_eff*, thermal conductivity *k_eff*, heat capacity *rhoC_eff*, *rho_v* saturation water vapor density and *rho_v_dT* is temperature derivate of the saturation water vapor density the. SWVD stands for saturation water vapor density and is an option to decide on the equation to be used for the computation. We choose 'Libbrecht'."
   ]
  },
  {
   "cell_type": "code",
   "execution_count": null,
   "id": "12",
   "metadata": {},
   "outputs": [],
   "source": [
    "SWVD = 'Libbrecht'\n",
    "[D_eff, k_eff, rhoC_eff, rho_v, rho_v_dT] =\\\n",
    "update_model_parameters(phi, T, nz,  SWVD)"
   ]
  },
  {
   "cell_type": "markdown",
   "id": "13",
   "metadata": {},
   "source": [
    "#### Initialize settling velocity\n",
    "*v* is the settling velocity *v_dz* is the z derivative of the velocity and sigma is the vertical stress at each grid node. *SetVel* can be set to 'Y' and 'N' to include or exclude settling respectively. *v_opt* is the option for velocity computation that are described in the docstring. We choose *continuous*. *viscosity* is an option for the viscosity computation. We choose *eta_constant_n1*.\n",
    "\n",
    "$ \\nabla v = \\dot{\\epsilon} $\n",
    "\n",
    "$ \\dot{\\epsilon}  = \\frac{1}{\\eta} \\sigma^m $\n",
    "\n",
    "$ \\partial_z v = \\frac{1}{\\eta} \\left( g \\int_z^{H(t)} \\phi_i\\left(\\zeta \\right) \\rho_i \\, d \\zeta \\right)^{m} $\n",
    "\n",
    "$ v (z) = - \\int_0^z \\frac{1}{\\eta} \\left( g \\int_{\\tilde z}^{H(t)} \\phi_i(\\zeta)\\rho_i d \\zeta \\right)^{m} \\, d\\tilde{z} $"
   ]
  },
  {
   "cell_type": "code",
   "execution_count": null,
   "id": "14",
   "metadata": {},
   "outputs": [],
   "source": [
    "SetVel = 'Y'\n",
    "v_opt = 'continuous'\n",
    "viscosity = 'eta_constant_n1'\n",
    "[v, v_dz, sigma] =\\\n",
    "settling_vel(T, nz, coord, phi, SetVel, v_opt, viscosity)\n",
    "Eterms = True"
   ]
  },
  {
   "cell_type": "markdown",
   "id": "15",
   "metadata": {},
   "source": []
  },
  {
   "cell_type": "markdown",
   "id": "16",
   "metadata": {},
   "source": [
    "Ice mass balance: \n",
    "$ \\partial_t \\phi_i + \\nabla \\cdot (\\mathbf{v}\\,\\phi_i) = \\frac{c}{\\rho_i} $\n",
    "\n",
    "Water vapor transport:\n",
    "$ \\partial_t \\left( \\rho_v \\, (1- \\phi_i) \\right) - \\nabla \\cdot \\left( D_{eff} \\, \\nabla \\rho_v \\right) + \\rho_v \\, \\nabla \\cdot \\left(v \\,\\phi_i \\right) = -c $"
   ]
  },
  {
   "cell_type": "code",
   "execution_count": null,
   "id": "17",
   "metadata": {},
   "outputs": [],
   "source": [
    "def visualize_juypter(fig, ax1, ax2, ax3, ax4,ax5, T, c, phi, rho_v, v, t_passed):\n",
    "    hours_passed = t_passed/3600    \n",
    "    ax1.plot(phi, coord, label='phi profile at t = ' + str(np.round(hours_passed, 2))+ 'h')\n",
    "    ax1.set_xlabel('Liquid fraction [-]')\n",
    "    ax1.set_ylabel('Height [m]' )\n",
    "    ax1.legend(loc='upper right')  # Update legend to show current time step\n",
    "    ax2.plot(T, coord, label='T profile at t = ' + str(t_passed) )\n",
    "    ax2.set_xlabel('Temperature [K]')\n",
    "    ax2.set_ylabel('Height [m]' )\n",
    "    ax3.plot(c, coord, label='c at t = ' + str(t_passed))\n",
    "    ax3.set_xlabel('Deposition rate')\n",
    "    ax3.set_ylabel('Height [m]' )\n",
    "    ax4.plot(rho_v, coord, label ='rho_v t = ' + str(t_passed))\n",
    "    ax4.set_xlabel('Water vapor density')\n",
    "    ax4.set_ylabel('Height [m]' )\n",
    "    ax5.plot(v, coord, label='v profile at t = ' + str(t_passed))\n",
    "    ax5.set_xlabel('Vertical velocity [m/s]')\n",
    "    ax5.set_ylabel('Height [m]' )\n",
    "    fig.tight_layout()\n",
    "    clear_output(wait = True)\n",
    "    display(fig)\n",
    "    \n",
    "    return fig"
   ]
  },
  {
   "cell_type": "code",
   "execution_count": null,
   "id": "18",
   "metadata": {},
   "outputs": [],
   "source": [
    "# Set up the figure and axis\n",
    "\n",
    "fig,(ax1, ax2, ax3, ax4,ax5) = plt.subplots(5,1, figsize=(10,13))\n",
    "for t in range(iter_max):\n",
    "    # if t_passed > 3600*(24*2) : # e.g. 2 days\n",
    "    #     to_stop = 5\n",
    "    #print(t)\n",
    "    if t%500  == 0:\n",
    "        visualize_juypter(fig, ax1, ax2, ax3, ax4,ax5, T, c, phi, rho_v, v, t_passed)\n",
    "    [all_D_eff, all_k_eff, all_FN, all_rhoC_eff, all_rho_v, all_T,all_c,all_phi,  all_rho_eff, all_coord, all_v, all_sigma, all_t_passed,  all_dz] \\\n",
    "        =  store_results(all_D_eff, all_k_eff, all_FN, all_rhoC_eff, all_rho_v, all_T, all_c,all_phi, all_rho_eff, all_coord, all_v, all_sigma, all_t_passed,all_dz, D_eff, k_eff, FN, phi, rhoC_eff, rho_v, T, c, rho_eff, coord, v, sigma,  t, iter_max, nz,dz,t_passed)        \n",
    "    T_prev = T\n",
    "    # Module I solves for temperature - Diffusion\n",
    "    (T, a, b) = solve_for_T(T, rho_v_dT, k_eff, D_eff, rhoC_eff, phi, nz, dt, dz, Eterms)     \n",
    "    # Module II solves for deposition rate - Diffusion\n",
    "    c = solve_for_c(T, T_prev, phi, D_eff, rho_v_dT, nz, dt, dz, Eterms)        \n",
    "    # Module III solves for ice volume fraction and coordinate update - Advection\n",
    "    (phi, coord, dz, v_dz, v, sigma) = coupled_update_phi_coord(T, c, dt, nz, phi, v_dz, coord, SetVel, v_opt, viscosity)   \n",
    "    [D_eff, k_eff, rhoC_eff, rho_v, rho_v_dT] = update_model_parameters(phi, T, nz, SWVD)\n",
    "    t_passed = t_total(t_passed, dt)\n",
    "    #print(t_passed)\n",
    "    ## find iteration number for specific time by placing a breakpoint at line 58:\n",
    "    # activate next line if Module I and II are deactivated\n",
    "    #dt = 100\n",
    "    # deactivate next line if Module I and/or II are deactivated\n",
    "    [dt, FN] = comp_dt(t_passed, dz, a, b, v)\n"
   ]
  },
  {
   "cell_type": "code",
   "execution_count": null,
   "id": "19",
   "metadata": {},
   "outputs": [],
   "source": []
  },
  {
   "cell_type": "code",
   "execution_count": null,
   "id": "20",
   "metadata": {},
   "outputs": [],
   "source": []
  }
 ],
 "metadata": {
  "kernelspec": {
   "display_name": "myenv",
   "language": "python",
   "name": "python3"
  },
  "language_info": {
   "codemirror_mode": {
    "name": "ipython",
    "version": 3
   },
   "file_extension": ".py",
   "mimetype": "text/x-python",
   "name": "python",
   "nbconvert_exporter": "python",
   "pygments_lexer": "ipython3",
   "version": "3.13.2"
  }
 },
 "nbformat": 4,
 "nbformat_minor": 5
}
